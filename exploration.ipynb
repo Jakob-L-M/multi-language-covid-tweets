{
 "cells": [
  {
   "cell_type": "code",
   "execution_count": null,
   "id": "fd0fc658",
   "metadata": {},
   "outputs": [],
   "source": [
    "import pandas as pd\n",
    "\n",
    "# Imports from plotting\n",
    "import seaborn as sns\n",
    "import matplotlib.pyplot as plt\n",
    "from matplotlib.ticker import MultipleLocator\n",
    "\n",
    "# sentiment discovery imports\n",
    "from textblob import TextBlob\n",
    "\n",
    "# utilities\n",
    "from tqdm.auto import tqdm\n",
    "import datetime"
   ]
  },
  {
   "cell_type": "code",
   "execution_count": null,
   "id": "8afbef1b",
   "metadata": {},
   "outputs": [],
   "source": [
    "df = pd.read_pickle('pre-processed-data.pkl')"
   ]
  },
  {
   "cell_type": "code",
   "execution_count": null,
   "id": "88ce8a8a",
   "metadata": {},
   "outputs": [],
   "source": [
    "# perfrom sentiment analysis using textblob\n",
    "# Does ~4k iterations per second\n",
    "polarity = []\n",
    "sentiment = []\n",
    "for tweet in tqdm(df['cleaned_tweets']):\n",
    "    blob = TextBlob(tweet)\n",
    "    pol = 0\n",
    "    for sentence in blob.sentences:\n",
    "        pol += sentence.sentiment.polarity\n",
    "    polarity.append(pol)\n",
    "    sentiment.append('positive' if pol > 0.5 else 'negative')"
   ]
  },
  {
   "cell_type": "code",
   "execution_count": null,
   "id": "3ee24590",
   "metadata": {},
   "outputs": [],
   "source": [
    "posting_times = [i.timestamp() for i in df['created_at']]"
   ]
  },
  {
   "cell_type": "code",
   "execution_count": null,
   "id": "3667c211",
   "metadata": {},
   "outputs": [],
   "source": [
    "# Add columns to dataframe\n",
    "df['polarity'] = polarity\n",
    "df['sentiment'] = sentiment\n",
    "df['timestamps'] = posting_times"
   ]
  },
  {
   "cell_type": "code",
   "execution_count": null,
   "id": "e90ed4ea",
   "metadata": {},
   "outputs": [],
   "source": [
    "sns.set_theme(style=\"whitegrid\")\n",
    "\n",
    "fig, ax = plt.subplots()\n",
    "\n",
    "sns.violinplot(data=df, y='language', x='timestamps', orient='h', inner=None,\n",
    "               ax=ax, hue='sentiment', split=True, palette={\"positive\": \"r\", \"negative\": \"b\"})\n",
    "\n",
    "# setting axis ticks\n",
    "plt.xticks([1618963200 + i*86400 for i in range(4)], ['21-04-21','21-04-22','21-04-23','21-04-24'])\n",
    "ax.xaxis.set_minor_locator(MultipleLocator(86400/4))\n",
    "ax.xaxis.set_minor_formatter(lambda x, i: str(int((x%86400)//3600)) + ':00')\n",
    "ax.tick_params(which='minor', labelsize=7)\n",
    "ax.tick_params(which='major', length=12)\n",
    "\n",
    "# setting labels\n",
    "plt.ylabel('Language')\n",
    "plt.xlabel('Time (UTC)')\n",
    "plt.title('Activity and sentiment in differnet languages');"
   ]
  }
 ],
 "metadata": {
  "kernelspec": {
   "display_name": "Python 3 (ipykernel)",
   "language": "python",
   "name": "python3"
  },
  "language_info": {
   "codemirror_mode": {
    "name": "ipython",
    "version": 3
   },
   "file_extension": ".py",
   "mimetype": "text/x-python",
   "name": "python",
   "nbconvert_exporter": "python",
   "pygments_lexer": "ipython3",
   "version": "3.9.13"
  }
 },
 "nbformat": 4,
 "nbformat_minor": 5
}
